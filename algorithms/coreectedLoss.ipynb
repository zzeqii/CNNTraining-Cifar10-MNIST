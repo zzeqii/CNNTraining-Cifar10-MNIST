{
 "cells": [
  {
   "cell_type": "code",
   "execution_count": null,
   "metadata": {},
   "outputs": [],
   "source": [
    "import numpy as np\n",
    "import pandas as pd\n",
    "from keras.optimizers import SGD\n",
    "from keras.models import Sequential\n",
    "from keras.utils import to_categorical\n",
    "from keras.layers import Conv2D, MaxPooling2D, Flatten\n",
    "from keras.layers import Input,Embedding, Dense,Dropout\n",
    "from sklearn.metrics import accuracy_score\n",
    "from keras import backend as K"
   ]
  },
  {
   "cell_type": "markdown",
   "metadata": {},
   "source": [
    "# Corrected loss method implementation"
   ]
  },
  {
   "cell_type": "code",
   "execution_count": null,
   "metadata": {},
   "outputs": [],
   "source": [
    "# define backward and forward approaches\n",
    "def robust(name, P):\n",
    "\n",
    "    if name == 'backward':\n",
    "        P_inv = K.constant(np.linalg.inv(P))\n",
    "\n",
    "        def myloss(y_true, y_pred):\n",
    "            y_pred /= K.sum(y_pred, axis=-1, keepdims=True)\n",
    "            y_pred = K.clip(y_pred, K.epsilon(), 1.0 - K.epsilon())\n",
    "            return -K.sum(K.dot(y_true, P_inv) * K.log(y_pred), axis=-1)\n",
    "\n",
    "    elif name == 'forward':\n",
    "        P = K.constant(P)\n",
    "\n",
    "        def myloss(y_true, y_pred):\n",
    "            y_pred /= K.sum(y_pred, axis=-1, keepdims=True)\n",
    "            y_pred = K.clip(y_pred, K.epsilon(), 1.0 - K.epsilon())\n",
    "            return -K.sum(y_true * K.log(K.dot(y_pred, P)), axis=-1)\n",
    "\n",
    "    return myloss"
   ]
  },
  {
   "cell_type": "code",
   "execution_count": null,
   "metadata": {},
   "outputs": [],
   "source": [
    "# estimate Matrix\n",
    "def estimateT(m): \n",
    "    zeroJ=max(m[:,0])\n",
    "    oneJ=max(m[:,1]) \n",
    "    zeroclass=np.where(m==zeroJ)\n",
    "    oneclass=np.where(m==oneJ)\n",
    "    zeroI=m[zeroclass[0],:]\n",
    "    oneI=m[oneclass[0],:]\n",
    "    t=np.vstack((zeroI,oneI))\n",
    "    return t"
   ]
  },
  {
   "cell_type": "markdown",
   "metadata": {},
   "source": [
    "## implement approach on MNIST dataset"
   ]
  },
  {
   "cell_type": "code",
   "execution_count": null,
   "metadata": {},
   "outputs": [],
   "source": [
    "def run_mnist():\n",
    "    accuracies=[]\n",
    "    losses=[]\n",
    "    \n",
    "    path=\"../input_data/mnist_dataset.npz\"\n",
    "    data=np.load(path)\n",
    "    Xtr=data['Xtr']\n",
    "    Xtr=Xtr.reshape([-1,1,28,28]).transpose([0,2,3,1]).astype('float')\n",
    "    Str=data['Str']\n",
    "    Str = to_categorical(Str, num_classes=2)\n",
    "    Xts=data['Xts']\n",
    "    Xts=Xts.reshape([-1,1,28,28]).transpose([0,2,3,1]).astype('float')\n",
    "    Yts=data['Yts']\n",
    "    Yts=to_categorical(Yts, num_classes=2)\n",
    "    Xtr, Xts = Xtr / 255.0, Xts / 255.0\n",
    "    \n",
    "    model=Sequential()\n",
    "    model.add(Conv2D(32, (3, 3), activation='relu',input_shape=(28, 28, 1)))\n",
    "    model.add(Conv2D(32, (3, 3), activation='relu'))\n",
    "    model.add(MaxPooling2D(pool_size=(2, 2),padding='same'))\n",
    "    model.add(Dropout(0.2))\n",
    "\n",
    "    model.add(Conv2D(64, (3, 3), activation='relu'))\n",
    "    model.add(Conv2D(64, (3, 3), activation='relu'))\n",
    "    model.add(MaxPooling2D(pool_size=(2, 2),padding='same'))\n",
    "    model.add(Dropout(0.2))\n",
    "\n",
    "    model.add(Conv2D(128, (2, 2), activation='relu'))\n",
    "    model.add(Conv2D(128, (2, 2), activation='relu'))\n",
    "    model.add(MaxPooling2D(pool_size=(2, 2),padding='same'))\n",
    "    model.add(Dropout(0.2))\n",
    "\n",
    "    model.add(Flatten())\n",
    "    model.add(Dense(128, activation='relu'))\n",
    "    model.add(Dropout(0.4))\n",
    "    model.add(Dense(2, activation='softmax'))\n",
    "\n",
    "    sgd=SGD(lr=0.01,decay=1e-6,momentum=0.9,nesterov=True)\n",
    "    \n",
    "    model.compile(optimizer=sgd,\n",
    "    loss='binary_crossentropy',\n",
    "    metrics=['accuracy'])\n",
    "\n",
    "    model.fit(Xtr,Str,epochs = 10,validation_split=0.2,shuffle=True)\n",
    "\n",
    "    prob = model.predict(Xtr)\n",
    "\n",
    "\n",
    "    noise = estimateT(prob)\n",
    "\n",
    "    model.compile(optimizer=sgd,\n",
    "         loss=robust('forward',noise),\n",
    "         metrics=['accuracy'])\n",
    "\n",
    "    model.fit(Xtr,Str,epochs = 10,validation_split=0.2,shuffle=True)\n",
    "\n",
    "    loss,accuracy=model.evaluate(Xts,Yts)\n",
    "    print(\"classifier:\",i)\n",
    "    print(\"\\n Test set, Loss: %.2f, Accuracy: %.2f%%\" % (loss, accuracy*100))\n",
    "\n",
    "    return accuracy,loss"
   ]
  },
  {
   "cell_type": "code",
   "execution_count": null,
   "metadata": {},
   "outputs": [],
   "source": [
    "accs = []\n",
    "losses = []\n",
    "for i in range(10):\n",
    "    cur_acc, cur_los = run_mnist()\n",
    "    accs.append(cur_acc)\n",
    "    losses.append(cur_los)"
   ]
  },
  {
   "cell_type": "markdown",
   "metadata": {},
   "source": [
    "## Print result"
   ]
  },
  {
   "cell_type": "code",
   "execution_count": null,
   "metadata": {},
   "outputs": [],
   "source": [
    "print('accuracy_mnist:',accs)\n",
    "print('loss_mnist:',losses)\n",
    "accuracy_mnist=np.array(accuracy_mnist)\n",
    "loss_mnist=np.array(loss_mnist)\n",
    "print('aver_accuracy_mnist:',np.mean(accs))\n",
    "print('aver_loss_mnist:',np.mean(losses))\n",
    "print('std_accuracy_mnist:',np.std(accs))\n",
    "print('std_loss_mnist:',np.std(losses))\n"
   ]
  },
  {
   "cell_type": "markdown",
   "metadata": {},
   "source": [
    "## implement approach on CIFAR dataset"
   ]
  },
  {
   "cell_type": "code",
   "execution_count": null,
   "metadata": {},
   "outputs": [],
   "source": [
    "def run_cifar():\n",
    "  \n",
    "    \n",
    "    path=\"../input_data/cifar_dataset.npz\"\n",
    "    data=np.load(path)\n",
    "    Xtr=data['Xtr']\n",
    "    Xtr=Xtr.reshape([-1,3,32,32]).transpose([0,2,3,1]).astype('float')\n",
    "    Str=data['Str']\n",
    "    Str = to_categorical(Str, num_classes=2)\n",
    "    Xts=data['Xts']\n",
    "    Xts=Xts.reshape([-1,3,32,32]).transpose([0,2,3,1]).astype('float')\n",
    "    Yts=data['Yts']\n",
    "    Yts=to_categorical(Yts, num_classes=2)\n",
    "    Xtr, Xts = Xtr / 255.0, Xts / 255.0\n",
    "    \n",
    "    model=Sequential()\n",
    "    model.add(Conv2D(32, (3, 3), activation='relu',input_shape=(32, 32, 3)))\n",
    "    model.add(Conv2D(32, (3, 3), activation='relu'))\n",
    "    model.add(MaxPooling2D(pool_size=(2, 2),padding='same'))\n",
    "    model.add(Dropout(0.2))\n",
    "\n",
    "    model.add(Conv2D(64, (3, 3), activation='relu'))\n",
    "    model.add(Conv2D(64, (3, 3), activation='relu'))\n",
    "    model.add(MaxPooling2D(pool_size=(2, 2),padding='same'))\n",
    "    model.add(Dropout(0.2))\n",
    "\n",
    "    model.add(Conv2D(128, (3, 3), activation='relu'))\n",
    "    model.add(Conv2D(128, (3, 3), activation='relu'))\n",
    "    model.add(MaxPooling2D(pool_size=(2, 2),padding='same'))\n",
    "    model.add(Dropout(0.2))\n",
    "\n",
    "    model.add(Flatten())\n",
    "    model.add(Dense(128, activation='relu'))\n",
    "    model.add(Dropout(0.4))\n",
    "    model.add(Dense(2, activation='softmax'))\n",
    "\n",
    "    sgd=SGD(lr=0.01,decay=1e-6,momentum=0.9,nesterov=True)\n",
    "    \n",
    "    \n",
    "    model.compile(optimizer=sgd,\n",
    "    loss='binary_crossentropy',\n",
    "    metrics=['accuracy'])\n",
    "\n",
    "    model.fit(Xtr,Str,epochs = 10,validation_split=0.2,shuffle=True)\n",
    "\n",
    "    prob = model.predict(Xtr)\n",
    "\n",
    "\n",
    "    noise = estimateT(prob)\n",
    "\n",
    "    model.compile(optimizer=sgd,\n",
    "         loss=robust('forward',noise),\n",
    "         metrics=['accuracy'])\n",
    "\n",
    "    model.fit(Xtr,Str,epochs = 10,validation_split=0.2,shuffle=True)\n",
    "\n",
    "    loss,accuracy=model.evaluate(Xts,Yts)\n",
    "    print(\"classifier:\",i)\n",
    "    print(\"\\n Test set, Loss: %.2f, Accuracy: %.2f%%\" % (loss, accuracy*100))\n",
    "\n",
    "  \n",
    "    return accuracy,loss"
   ]
  },
  {
   "cell_type": "code",
   "execution_count": null,
   "metadata": {},
   "outputs": [],
   "source": [
    "accs = []\n",
    "losses = []\n",
    "for i in range(10):\n",
    "    cur_acc, cur_los = run_cifar()\n",
    "    accs.append(cur_acc)\n",
    "    losses.append(cur_los)"
   ]
  },
  {
   "cell_type": "markdown",
   "metadata": {},
   "source": [
    "## Print result"
   ]
  },
  {
   "cell_type": "code",
   "execution_count": null,
   "metadata": {},
   "outputs": [],
   "source": [
    "print('accuracy_mnist:',accs)\n",
    "print('loss_mnist:',losses)\n",
    "accuracy_mnist=np.array(accuracy_cifar)\n",
    "loss_mnist=np.array(loss_cifar)\n",
    "print('aver_accuracy_mnist:',np.mean(accs))\n",
    "print('aver_loss_mnist:',np.mean(losses))\n",
    "print('std_accuracy_mnist:',np.std(accs))\n",
    "print('std_loss_mnist:',np.std(losses))"
   ]
  }
 ],
 "metadata": {
  "kernelspec": {
   "display_name": "Python 3",
   "language": "python",
   "name": "python3"
  },
  "language_info": {
   "codemirror_mode": {
    "name": "ipython",
    "version": 3
   },
   "file_extension": ".py",
   "mimetype": "text/x-python",
   "name": "python",
   "nbconvert_exporter": "python",
   "pygments_lexer": "ipython3",
   "version": "3.7.1"
  }
 },
 "nbformat": 4,
 "nbformat_minor": 2
}
