{
 "cells": [
  {
   "cell_type": "code",
   "execution_count": null,
   "metadata": {
    "scrolled": true
   },
   "outputs": [],
   "source": [
    "import numpy as np\n",
    "import pandas as pd\n",
    "from keras.optimizers import SGD\n",
    "from keras.models import Sequential\n",
    "from keras.utils import to_categorical\n",
    "from keras.layers import Conv2D, MaxPooling2D, Flatten\n",
    "from keras.layers import Input,Embedding, Dense,Dropout\n",
    "from sklearn.metrics import accuracy_score"
   ]
  },
  {
   "cell_type": "markdown",
   "metadata": {},
   "source": [
    "# Importance reweighting method implementation\n",
    "## Estimate Beta"
   ]
  },
  {
   "cell_type": "code",
   "execution_count": null,
   "metadata": {},
   "outputs": [],
   "source": [
    "def estimateBeta(S,prob,rho0,rho1): \n",
    "    n = len(S)\n",
    "    beta = np.zeros((n,1)) \n",
    "    for i in range(n): \n",
    "        if S[i]==1:\n",
    "            beta[i] = (prob[i][1]-rho0)/((1-rho0-rho1)*prob[i][1])\n",
    "        else:\n",
    "            beta[i] = (prob[i][0]-rho1)/((1-rho0-rho1)*(prob[i][0]))\n",
    "    return beta "
   ]
  },
  {
   "cell_type": "markdown",
   "metadata": {},
   "source": [
    "## implement approach on MNIST dataset"
   ]
  },
  {
   "cell_type": "code",
   "execution_count": null,
   "metadata": {},
   "outputs": [],
   "source": [
    "def run_mnist():\n",
    "    \n",
    "    path=\"../input_data/mnist_dataset.npz\"\n",
    "    data=np.load(path)\n",
    "    Xtr=data['Xtr']\n",
    "    Xtr=Xtr.reshape([-1,1,28,28]).transpose([0,2,3,1]).astype('float')\n",
    "    Str=data['Str']\n",
    "    Str = to_categorical(Str, num_classes=2)\n",
    "    Xts=data['Xts']\n",
    "    Xts=Xts.reshape([-1,1,28,28]).transpose([0,2,3,1]).astype('float')\n",
    "    Yts=data['Yts']\n",
    "    Yts=to_categorical(Yts, num_classes=2)\n",
    "    Xtr, Xts = Xtr / 255.0, Xts / 255.0\n",
    "    \n",
    "    \n",
    "    model=Sequential()\n",
    "    model.add(Conv2D(32, (3, 3), activation='relu',input_shape=(28, 28, 1)))\n",
    "    model.add(Conv2D(32, (3, 3), activation='relu'))\n",
    "    model.add(MaxPooling2D(pool_size=(2, 2),padding='same'))\n",
    "    model.add(Dropout(0.2))\n",
    "\n",
    "    model.add(Conv2D(64, (3, 3), activation='relu'))\n",
    "    model.add(Conv2D(64, (3, 3), activation='relu'))\n",
    "    model.add(MaxPooling2D(pool_size=(2, 2),padding='same'))\n",
    "    model.add(Dropout(0.2))\n",
    "\n",
    "    model.add(Conv2D(128, (2, 2), activation='relu'))\n",
    "    model.add(Conv2D(128, (2, 2), activation='relu'))\n",
    "    model.add(MaxPooling2D(pool_size=(2, 2),padding='same'))\n",
    "    model.add(Dropout(0.2))\n",
    "\n",
    "    model.add(Flatten())\n",
    "    model.add(Dense(128, activation='relu'))\n",
    "    model.add(Dropout(0.4))\n",
    "    model.add(Dense(2, activation='softmax'))\n",
    "\n",
    "    sgd=SGD(lr=0.01,decay=1e-6,momentum=0.9,nesterov=True)\n",
    "\n",
    "\n",
    "    model.compile(optimizer=sgd,\n",
    "    loss='binary_crossentropy',\n",
    "    metrics=['accuracy'])\n",
    "\n",
    "    model.fit(Xtr,Str,epochs = 10,validation_split=0.2,shuffle=True)\n",
    "\n",
    "    prob = model.predict(Xtr)\n",
    "\n",
    "    rho0 = np.min(prob[:,1]) \n",
    "    rho1 = np.min(prob[:,0]) \n",
    "\n",
    "    Str=np.argmax(Str,axis=1)\n",
    "    beta = estimateBeta(Str,prob,rho0,rho1)\n",
    "    for i in range(len(beta)):\n",
    "        if beta[i] < 0:\n",
    "            beta[i] = 0.0\n",
    "    Str = to_categorical(Str, num_classes=2)\n",
    "\n",
    "    model.compile(optimizer=sgd,\n",
    "          loss='binary_crossentropy',\n",
    "          metrics=['accuracy'])\n",
    "\n",
    "    model.fit(Xtr,Str,epochs = 10,validation_split=0.2,sample_weight=beta.flatten(),shuffle=True)\n",
    "\n",
    "    loss,accuracy=model.evaluate(Xts,Yts)\n",
    "    print(\"\\nTest set, Loss: %.2f, Accuracy: %.2f%%\" % (loss, accuracy*100))\n",
    "\n",
    "    return accuracy,loss"
   ]
  },
  {
   "cell_type": "code",
   "execution_count": null,
   "metadata": {},
   "outputs": [],
   "source": [
    "def result():\n",
    "    accs = []\n",
    "    losses = []\n",
    "    for i in range(10):\n",
    "        cur_acc, cur_los = run_mnist()\n",
    "        accs.append(cur_acc)\n",
    "        losses.append(cur_los)\n",
    "    return accs, losses"
   ]
  },
  {
   "cell_type": "markdown",
   "metadata": {},
   "source": [
    "## Print result"
   ]
  },
  {
   "cell_type": "code",
   "execution_count": null,
   "metadata": {},
   "outputs": [],
   "source": [
    "print('accuracy_mnist:',accs)\n",
    "print('loss_mnist:',losses)\n",
    "accuracy_mnist=np.array(accuracy_mnist)\n",
    "loss_mnist=np.array(loss_mnist)\n",
    "print('aver_accuracy_mnist:',np.mean(accs))\n",
    "print('aver_loss_mnist:',np.mean(losses))\n",
    "print('std_accuracy_mnist:',np.std(accs))\n",
    "print('std_loss_mnist:',np.std(losses))"
   ]
  },
  {
   "cell_type": "markdown",
   "metadata": {},
   "source": [
    "## implement approach on CIFAR dataset"
   ]
  },
  {
   "cell_type": "code",
   "execution_count": null,
   "metadata": {},
   "outputs": [],
   "source": [
    "def run_cifar():\n",
    "    path=\"../input_data/cifar_dataset.npz\"\n",
    "    data=np.load(path)\n",
    "    Xtr=data['Xtr']\n",
    "    Xtr=Xtr.reshape([-1,3,32,32]).transpose([0,2,3,1]).astype('float')\n",
    "    Str=data['Str']\n",
    "    Str = to_categorical(Str, num_classes=2)\n",
    "    Xts=data['Xts']\n",
    "    Xts=Xts.reshape([-1,3,32,32]).transpose([0,2,3,1]).astype('float')\n",
    "    Yts=data['Yts']\n",
    "    Yts=to_categorical(Yts, num_classes=2)\n",
    "    Xtr, Xts = Xtr / 255.0, Xts / 255.0\n",
    "    \n",
    "    model=Sequential()\n",
    "    model.add(Conv2D(32, (3, 3), activation='relu',input_shape=(32, 32, 3)))\n",
    "    model.add(Conv2D(32, (3, 3), activation='relu'))\n",
    "    model.add(MaxPooling2D(pool_size=(2, 2),padding='same'))\n",
    "    model.add(Dropout(0.2))\n",
    "\n",
    "    model.add(Conv2D(64, (3, 3), activation='relu'))\n",
    "    model.add(Conv2D(64, (3, 3), activation='relu'))\n",
    "    model.add(MaxPooling2D(pool_size=(2, 2),padding='same'))\n",
    "    model.add(Dropout(0.2))\n",
    "\n",
    "    model.add(Conv2D(128, (3, 3), activation='relu'))\n",
    "    model.add(Conv2D(128, (3, 3), activation='relu'))\n",
    "    model.add(MaxPooling2D(pool_size=(2, 2),padding='same'))\n",
    "    model.add(Dropout(0.2))\n",
    "\n",
    "    model.add(Flatten())\n",
    "    model.add(Dense(128, activation='relu'))\n",
    "    model.add(Dropout(0.4))\n",
    "    model.add(Dense(2, activation='softmax'))\n",
    "\n",
    "    sgd=SGD(lr=0.01,decay=1e-6,momentum=0.9,nesterov=True)\n",
    "    \n",
    "    for i in range(10):\n",
    "    model.compile(optimizer=sgd,\n",
    "    loss='binary_crossentropy',\n",
    "    metrics=['accuracy'])\n",
    "\n",
    "    model.fit(Xtr,Str,epochs = 10,validation_split=0.2,shuffle=True)\n",
    "\n",
    "    prob = model.predict(Xtr)\n",
    "\n",
    "    rho0 = np.min(prob[:,1]) \n",
    "    rho1 = np.min(prob[:,0]) \n",
    "\n",
    "    Str=np.argmax(Str,axis=1)\n",
    "    beta = estimateBeta(Str,prob,rho0,rho1)\n",
    "    for i in range(len(beta)):\n",
    "        if beta[i] < 0:\n",
    "            beta[i] = 0.0\n",
    "    Str = to_categorical(Str, num_classes=2)\n",
    "\n",
    "    model.compile(optimizer=sgd,\n",
    "          loss='binary_crossentropy',\n",
    "          metrics=['accuracy'])\n",
    "\n",
    "    model.fit(Xtr,Str,epochs = 10,validation_split=0.2,sample_weight=beta.flatten(),shuffle=True)\n",
    "\n",
    "    loss,accuracy=model.evaluate(Xts,Yts)\n",
    "    print(\"\\nTest set, Loss: %.2f, Accuracy: %.2f%%\" % (loss, accuracy*100))\n",
    "\n",
    "    return accuracy,loss"
   ]
  },
  {
   "cell_type": "code",
   "execution_count": null,
   "metadata": {},
   "outputs": [],
   "source": [
    "def result():\n",
    "    accs = []\n",
    "    losses = []\n",
    "    for i in range(10):\n",
    "        cur_acc, cur_los = run_cifar()\n",
    "        accs.append(cur_acc)\n",
    "        losses.append(cur_los)\n",
    "    return accs, losses"
   ]
  },
  {
   "cell_type": "markdown",
   "metadata": {},
   "source": [
    "## Print result"
   ]
  },
  {
   "cell_type": "code",
   "execution_count": null,
   "metadata": {},
   "outputs": [],
   "source": [
    "print('accuracy_mnist:',accs)\n",
    "print('loss_mnist:',losses)\n",
    "accuracy_mnist=np.array(accuracy_cifar)\n",
    "loss_mnist=np.array(loss_cifar)\n",
    "print('aver_accuracy_mnist:',np.mean(accs))\n",
    "print('aver_loss_mnist:',np.mean(losses))\n",
    "print('std_accuracy_mnist:',np.std(accs))\n",
    "print('std_loss_mnist:',np.std(losses))"
   ]
  }
 ],
 "metadata": {
  "kernelspec": {
   "display_name": "Python 3",
   "language": "python",
   "name": "python3"
  },
  "language_info": {
   "codemirror_mode": {
    "name": "ipython",
    "version": 3
   },
   "file_extension": ".py",
   "mimetype": "text/x-python",
   "name": "python",
   "nbconvert_exporter": "python",
   "pygments_lexer": "ipython3",
   "version": "3.7.1"
  }
 },
 "nbformat": 4,
 "nbformat_minor": 2
}
